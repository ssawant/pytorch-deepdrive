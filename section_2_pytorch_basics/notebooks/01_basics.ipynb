{
 "cells": [
  {
   "cell_type": "code",
   "execution_count": 2,
   "metadata": {},
   "outputs": [],
   "source": [
    "import torch\n",
    "import torchvision\n",
    "import torch.nn as nn\n",
    "import numpy as np\n",
    "import matplotlib.pyplot as plt"
   ]
  },
  {
   "cell_type": "markdown",
   "metadata": {},
   "source": [
    "## The Pytorch Tensor"
   ]
  },
  {
   "cell_type": "code",
   "execution_count": 3,
   "metadata": {},
   "outputs": [],
   "source": [
    "W = [[1, 1, 1], [1.5, 1.5, 1.5], [2, 2, 2]]  # 3 * 3\n",
    "\n",
    "x = [[6], [7], [8]]  # 3*1\n",
    "b = [[1], [1], [1]]  # 3*1\n",
    "\n",
    "# Varaible to store output\n",
    "y = [[0], [0], [0]]"
   ]
  },
  {
   "cell_type": "code",
   "execution_count": 10,
   "metadata": {},
   "outputs": [
    {
     "name": "stdout",
     "output_type": "stream",
     "text": [
      "Output: [[22. ]\n",
      " [32.5]\n",
      " [43. ]]\n",
      "\n",
      "Output shape: (3, 1) \n",
      "\n"
     ]
    }
   ],
   "source": [
    "# We can transfrom our list of list intoa `numpy array` by using the function `array`\n",
    "W_np = np.array(W)\n",
    "\n",
    "x_np = np.array(x)\n",
    "\n",
    "# Lets use the function \"ones\" to create an array of ones!\n",
    "b_np = np.ones((3,1))\n",
    "\n",
    "# Lets now compute Wx +b using theses numpy variables! - Matrix Multiplication\n",
    "output = np.matmul(W_np, x_np) + b_np\n",
    "\n",
    "# Print out the result\n",
    "print(f\"Output: {output}\\n\")\n",
    "print(f\"Output shape: {output.shape} \\n\")\n"
   ]
  },
  {
   "cell_type": "markdown",
   "metadata": {},
   "source": [
    "Now in Pytorch!"
   ]
  },
  {
   "cell_type": "code",
   "execution_count": 11,
   "metadata": {},
   "outputs": [
    {
     "name": "stdout",
     "output_type": "stream",
     "text": [
      "output: tensor([[22.0000],\n",
      "        [32.5000],\n",
      "        [43.0000]])\n",
      "output shape: torch.Size([3, 1])\n",
      "\n"
     ]
    }
   ],
   "source": [
    "W_torch = torch.FloatTensor(W)\n",
    "\n",
    "x_troch = torch.FloatTensor(x)\n",
    "\n",
    "# let use the function `ones` to create an array of ones!\n",
    "b_torch = torch.ones(3, 1)\n",
    "\n",
    "# Lets npw compute Wx + b using these numpy variables!\n",
    "output = torch.matmul(W_torch, x_troch) + b_torch\n",
    "\n",
    "# Print out the result\n",
    "print(f\"output: {output}\\noutput shape: {output.shape}\\n\")"
   ]
  },
  {
   "cell_type": "markdown",
   "metadata": {},
   "source": [
    "There are more function in pytorch to transfer pytorch tensor to numpy arrays and back"
   ]
  },
  {
   "cell_type": "code",
   "execution_count": 12,
   "metadata": {},
   "outputs": [
    {
     "name": "stdout",
     "output_type": "stream",
     "text": [
      "Numpy array: [[0.98674075 0.25585276 0.29858554 0.10184861]\n",
      " [0.54812487 0.18615461 0.22937106 0.31687187]\n",
      " [0.13590942 0.76843451 0.24151383 0.99715721]]\n",
      "\n",
      "Pytorch tensor: tensor([[0.9867, 0.2559, 0.2986, 0.1018],\n",
      "        [0.5481, 0.1862, 0.2294, 0.3169],\n",
      "        [0.1359, 0.7684, 0.2415, 0.9972]])\n",
      "Numpy array: [[0.98674077 0.25585276 0.29858553 0.1018486 ]\n",
      " [0.54812485 0.1861546  0.22937106 0.31687188]\n",
      " [0.13590942 0.7684345  0.24151383 0.9971572 ]]\n"
     ]
    }
   ],
   "source": [
    "# Create a random Numpy arrays\n",
    "np_array = np.random.random((3, 4))\n",
    "print(f\"Numpy array: {np_array}\\n\")\n",
    "\n",
    "# Convert to pytorch tensor\n",
    "torch_tensor = torch.FloatTensor(np_array)\n",
    "print(f\"Pytorch tensor: {torch_tensor}\")\n",
    "\n",
    "# Convert back to a Numpy array\n",
    "np_array2 = torch_tensor.numpy()\n",
    "print(f\"Numpy array: {np_array2}\")"
   ]
  },
  {
   "cell_type": "markdown",
   "metadata": {},
   "source": [
    "## On to Pytorch !\n",
    "\n",
    "Let futher explore Pytorch and its simiarities to Numpy and then see what new functionalities it bring to the table!!\n",
    "\n",
    "### Basic Element-wise Operations\n",
    "Let's quickly go back over some basics using Pytorch"
   ]
  },
  {
   "cell_type": "code",
   "execution_count": 43,
   "metadata": {},
   "outputs": [
    {
     "name": "stdout",
     "output_type": "stream",
     "text": [
      "1D tensor: \n",
      "tensor([[0.6744, 0.3185, 0.8346, 0.4667, 0.4758],\n",
      "        [0.2989, 0.5851, 0.1845, 0.7865, 0.7065],\n",
      "        [0.3288, 0.2283, 0.5137, 0.8828, 0.1646],\n",
      "        [0.6955, 0.4893, 0.1674, 0.2161, 0.9657]])\n",
      "Scalar Multiplication:\n",
      " tensor([[6.7442, 3.1850, 8.3462, 4.6668, 4.7578],\n",
      "        [2.9888, 5.8509, 1.8451, 7.8646, 7.0651],\n",
      "        [3.2877, 2.2833, 5.1367, 8.8280, 1.6464],\n",
      "        [6.9553, 4.8925, 1.6742, 2.1605, 9.6575]])\n",
      "Addition and square: \n",
      " tensor([[2.8037, 1.7384, 3.3658, 2.1511, 2.1779],\n",
      "        [1.6871, 2.5125, 1.4031, 3.1914, 2.9122],\n",
      "        [1.7656, 1.5088, 2.2912, 3.5449, 1.3564],\n",
      "        [2.8748, 2.2179, 1.3629, 1.4788, 3.8642]])\n",
      "Addition: \n",
      "tensor([[1.3488, 0.6370, 1.6692, 0.9334, 0.9516],\n",
      "        [0.5978, 1.1702, 0.3690, 1.5729, 1.4130],\n",
      "        [0.6575, 0.4567, 1.0273, 1.7656, 0.3293],\n",
      "        [1.3911, 0.9785, 0.3348, 0.4321, 1.9315]])\n",
      "Addition and division:\n",
      " tensor([[0.4028, 0.2416, 0.4549, 0.3182, 0.3224],\n",
      "        [0.2301, 0.3691, 0.1558, 0.4402, 0.4140],\n",
      "        [0.2474, 0.1859, 0.3394, 0.4689, 0.1414],\n",
      "        [0.4102, 0.3285, 0.1434, 0.1777, 0.4913]])\n",
      "Power and suare root: \n",
      " tensor([[0.6744, 0.3185, 0.8346, 0.4667, 0.4758],\n",
      "        [0.2989, 0.5851, 0.1845, 0.7865, 0.7065],\n",
      "        [0.3288, 0.2283, 0.5137, 0.8828, 0.1646],\n",
      "        [0.6955, 0.4893, 0.1674, 0.2161, 0.9657]])\n",
      "\n",
      "Y :tensor([[0.6744, 0.3185, 0.8346, 0.4667, 0.4758],\n",
      "        [0.2989, 0.5851, 0.1845, 0.7865, 0.7065],\n",
      "        [0.3288, 0.2283, 0.5137, 0.8828, 0.1646],\n",
      "        [0.6955, 0.4893, 0.1674, 0.2161, 0.9657]])\n",
      "Min: 0.16\n",
      "Max: 0.97\n",
      "Std: 0.2572891414165497\n",
      "Sum: 9.984\n"
     ]
    }
   ],
   "source": [
    "# Lets create a 2D Tensor using torch.rand\n",
    "y = torch.rand(4, 5)\n",
    "print(f\"1D tensor: \\n{y}\")\n",
    "\n",
    "# Lets perform normal python scalar arithmetic on Torch tensor\n",
    "print(f\"Scalar Multiplication:\\n {y *10}\")\n",
    "print(f\"Addition and square: \\n {(y+1)**2}\")\n",
    "print(f\"Addition: \\n{y+y}\")\n",
    "print(f\"Addition and division:\\n {y / (y+1)}\")\n",
    "\n",
    "# We can use a combination of torch functions and normalpython arithmetic\n",
    "print(f\"Power and suare root: \\n {torch.sqrt(y**2)}\")\n",
    "\n",
    "# Torch tensors are objects and have functions\n",
    "print(f\"\\nY :{y}\\nMin: {y.min():.2f}\\nMax: {y.max():.2f}\\nStd: {y.std()}\\nSum: {y.sum():.3f}\")"
   ]
  },
  {
   "cell_type": "markdown",
   "metadata": {},
   "source": [
    "### Tensor Operations"
   ]
  },
  {
   "cell_type": "code",
   "execution_count": 48,
   "metadata": {},
   "outputs": [
    {
     "name": "stdout",
     "output_type": "stream",
     "text": [
      "Add tensor:\n",
      " tensor([[[0.2983, 1.6726, 0.4420],\n",
      "         [0.9052, 0.1658, 0.5641],\n",
      "         [0.9990, 0.9015, 0.8909]],\n",
      "\n",
      "        [[0.7775, 0.2540, 1.1831],\n",
      "         [1.7821, 0.7533, 1.0743],\n",
      "         [1.4934, 1.6080, 0.9827]],\n",
      "\n",
      "        [[1.1716, 0.9154, 0.3596],\n",
      "         [0.6050, 0.4805, 0.6613],\n",
      "         [0.2688, 0.4573, 0.2039]]])\n",
      "Batch Multiplication:\n",
      " tensor([[[0.8207, 0.2832, 0.5959],\n",
      "         [0.1785, 0.2263, 0.1583],\n",
      "         [0.6426, 0.3389, 0.3154]],\n",
      "\n",
      "        [[0.6780, 0.6840, 0.9047],\n",
      "         [1.2337, 0.9146, 1.3204],\n",
      "         [1.1098, 0.2857, 0.6601]],\n",
      "\n",
      "        [[0.7163, 0.2863, 0.4116],\n",
      "         [0.2551, 0.0951, 0.1314],\n",
      "         [0.2655, 0.0989, 0.1446]]])\n"
     ]
    }
   ],
   "source": [
    "# Create two 3D Tensors\n",
    "tensor_1 = torch.rand(3,3,3)\n",
    "tensor_2 = torch.rand(3,3,3)\n",
    " \n",
    "# Add the 2 Tensors\n",
    "print(f\"Add tensor:\\n {tensor_1 + tensor_2}\")\n",
    "\n",
    "# We can'tperform a normal matrix multiplocation on a 3d tensor\n",
    "# But we can treat the 3D tensor as batch (like a stack) of 2D tensors\n",
    "# And performnormal matrix multiplication indepedantly on each pair of 2D matricies\n",
    "print(f\"Batch Multiplication:\\n {torch.bmm(tensor_1, tensor_2)}\")"
   ]
  },
  {
   "cell_type": "code",
   "execution_count": 51,
   "metadata": {},
   "outputs": [
    {
     "name": "stdout",
     "output_type": "stream",
     "text": [
      "Tensor 3:\n",
      " tensor([[[0.2198, 0.0338, 0.7519, 0.9452, 0.1264],\n",
      "         [0.8126, 0.5071, 0.2424, 0.5215, 0.0250],\n",
      "         [0.9803, 0.1088, 0.1661, 0.2209, 0.1197],\n",
      "         [0.4625, 0.8054, 0.3131, 0.8079, 0.0571]],\n",
      "\n",
      "        [[0.8741, 0.2483, 0.7708, 0.4332, 0.9638],\n",
      "         [0.6537, 0.3252, 0.8817, 0.9697, 0.5643],\n",
      "         [0.8247, 0.4977, 0.4986, 0.7110, 0.5692],\n",
      "         [0.0720, 0.7256, 0.8623, 0.4897, 0.3186]]])\n",
      "Tensor shape: torch.Size([2, 4, 5])\n",
      "Swap:\n",
      "tensor([[[0.2198, 0.8741],\n",
      "         [0.8126, 0.6537],\n",
      "         [0.9803, 0.8247],\n",
      "         [0.4625, 0.0720]],\n",
      "\n",
      "        [[0.0338, 0.2483],\n",
      "         [0.5071, 0.3252],\n",
      "         [0.1088, 0.4977],\n",
      "         [0.8054, 0.7256]],\n",
      "\n",
      "        [[0.7519, 0.7708],\n",
      "         [0.2424, 0.8817],\n",
      "         [0.1661, 0.4986],\n",
      "         [0.3131, 0.8623]],\n",
      "\n",
      "        [[0.9452, 0.4332],\n",
      "         [0.5215, 0.9697],\n",
      "         [0.2209, 0.7110],\n",
      "         [0.8079, 0.4897]],\n",
      "\n",
      "        [[0.1264, 0.9638],\n",
      "         [0.0250, 0.5643],\n",
      "         [0.1197, 0.5692],\n",
      "         [0.0571, 0.3186]]])\n",
      "Tensor shape: torch.Size([5, 4, 2])\n"
     ]
    }
   ],
   "source": [
    "# Lets create a moreinteresting tensor\n",
    "tensor_3 = torch.rand(2,4,5)\n",
    "# We can swapthe Tensor dimensions\n",
    "print(f\"Tensor 3:\\n {tensor_3}\\nTensor shape: {tensor_3.shape}\")\n",
    "\n",
    "# Tranpose will swpathe dimension it is given\n",
    "print(f\"Swap:\\n{tensor_3.transpose(0,2)}\\nTensor shape: {tensor_3.transpose(0,2).shape}\")"
   ]
  },
  {
   "cell_type": "markdown",
   "metadata": {},
   "source": [
    "### Indexing"
   ]
  },
  {
   "cell_type": "code",
   "execution_count": 67,
   "metadata": {},
   "outputs": [
    {
     "name": "stdout",
     "output_type": "stream",
     "text": [
      "Input tensor:\n",
      "tensor([[[[0.3936, 0.6159, 0.6997, 0.0966]],\n",
      "\n",
      "         [[0.4806, 0.0271, 0.4104, 0.0383]],\n",
      "\n",
      "         [[0.5541, 0.3746, 0.7969, 0.7920]]],\n",
      "\n",
      "\n",
      "        [[[0.2897, 0.3034, 0.9928, 0.5285]],\n",
      "\n",
      "         [[0.9240, 0.9457, 0.9256, 0.2280]],\n",
      "\n",
      "         [[0.2925, 0.7888, 0.4822, 0.1003]]]])\n"
     ]
    }
   ],
   "source": [
    "# Create a 4D Tensor\n",
    "tensor = torch.rand( 2,3,1,4)\n",
    "print(f\"Input tensor:\\n{tensor}\")"
   ]
  },
  {
   "cell_type": "code",
   "execution_count": 79,
   "metadata": {},
   "outputs": [
    {
     "data": {
      "text/plain": [
       "tensor([[[0.4806, 0.0271, 0.4104, 0.0383]],\n",
       "\n",
       "        [[0.9240, 0.9457, 0.9256, 0.2280]]])"
      ]
     },
     "execution_count": 79,
     "metadata": {},
     "output_type": "execute_result"
    }
   ],
   "source": [
    "tensor[:,1]"
   ]
  },
  {
   "cell_type": "code",
   "execution_count": null,
   "metadata": {},
   "outputs": [],
   "source": [
    "torch.from_numpy()"
   ]
  }
 ],
 "metadata": {
  "kernelspec": {
   "display_name": "Python 3",
   "language": "python",
   "name": "python3"
  },
  "language_info": {
   "codemirror_mode": {
    "name": "ipython",
    "version": 3
   },
   "file_extension": ".py",
   "mimetype": "text/x-python",
   "name": "python",
   "nbconvert_exporter": "python",
   "pygments_lexer": "ipython3",
   "version": "3.10.12"
  }
 },
 "nbformat": 4,
 "nbformat_minor": 2
}
